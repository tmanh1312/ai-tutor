{
 "cells": [
  {
   "cell_type": "code",
   "execution_count": 2,
   "metadata": {},
   "outputs": [],
   "source": [
    "import pandas as pd"
   ]
  },
  {
   "attachments": {},
   "cell_type": "markdown",
   "metadata": {},
   "source": [
    "## Initial pre-processing\n",
    "### Filter dataset to only include shorts, trousers, and joggers categories, and only select relevant columns"
   ]
  },
  {
   "cell_type": "code",
   "execution_count": 29,
   "metadata": {},
   "outputs": [
    {
     "name": "stderr",
     "output_type": "stream",
     "text": [
      "/var/folders/rn/83bqbm0x61bfmx32sb8r6cs80000gn/T/ipykernel_3432/1212159223.py:3: DtypeWarning: Columns (33,39,48,51,85,90) have mixed types. Specify dtype option on import or set low_memory=False.\n",
      "  df = pd.read_csv('../data/combined.csv.bz2')\n"
     ]
    },
    {
     "data": {
      "text/html": [
       "<div>\n",
       "<style scoped>\n",
       "    .dataframe tbody tr th:only-of-type {\n",
       "        vertical-align: middle;\n",
       "    }\n",
       "\n",
       "    .dataframe tbody tr th {\n",
       "        vertical-align: top;\n",
       "    }\n",
       "\n",
       "    .dataframe thead th {\n",
       "        text-align: right;\n",
       "    }\n",
       "</style>\n",
       "<table border=\"1\" class=\"dataframe\">\n",
       "  <thead>\n",
       "    <tr style=\"text-align: right;\">\n",
       "      <th></th>\n",
       "      <th>product_displayName</th>\n",
       "      <th>parentCategory_displayName</th>\n",
       "      <th>product_feel</th>\n",
       "      <th>product_fit</th>\n",
       "      <th>product_function</th>\n",
       "      <th>product_activity</th>\n",
       "      <th>sku_orderInAvailabilityMap</th>\n",
       "      <th>sku_colorCodeDesc</th>\n",
       "      <th>product_customAttribute5</th>\n",
       "      <th>sku_size</th>\n",
       "    </tr>\n",
       "  </thead>\n",
       "  <tbody>\n",
       "    <tr>\n",
       "      <th>258</th>\n",
       "      <td>ABC Pant Relaxed 34\" *Warpstreme</td>\n",
       "      <td>Trousers</td>\n",
       "      <td>Warpstreme</td>\n",
       "      <td>Relaxed Fit</td>\n",
       "      <td>ABC Technology</td>\n",
       "      <td>On the Move::::golf::::work::::casual</td>\n",
       "      <td>5</td>\n",
       "      <td>Obsidian</td>\n",
       "      <td>Spring::::Summer::::Fall::::Winter</td>\n",
       "      <td>32</td>\n",
       "    </tr>\n",
       "    <tr>\n",
       "      <th>274</th>\n",
       "      <td>License to Train Linerless Short 7\" *Pique</td>\n",
       "      <td>Shorts</td>\n",
       "      <td>Swift</td>\n",
       "      <td>Classic Fit</td>\n",
       "      <td>Anti Stink::::Drawstring::::Pocketed</td>\n",
       "      <td>workout</td>\n",
       "      <td>13</td>\n",
       "      <td>Utility Yellow</td>\n",
       "      <td>Spring::::Summer::::Warm Weather</td>\n",
       "      <td>L</td>\n",
       "    </tr>\n",
       "    <tr>\n",
       "      <th>303</th>\n",
       "      <td>License to Train Linerless Short 7\" *Pique</td>\n",
       "      <td>Shorts</td>\n",
       "      <td>Swift</td>\n",
       "      <td>Classic Fit</td>\n",
       "      <td>Anti Stink::::Drawstring::::Pocketed</td>\n",
       "      <td>workout</td>\n",
       "      <td>14</td>\n",
       "      <td>Utility Yellow</td>\n",
       "      <td>Spring::::Summer::::Warm Weather</td>\n",
       "      <td>M</td>\n",
       "    </tr>\n",
       "    <tr>\n",
       "      <th>358</th>\n",
       "      <td>ABC Pant Relaxed 34\" *Warpstreme</td>\n",
       "      <td>Trousers</td>\n",
       "      <td>Warpstreme</td>\n",
       "      <td>Relaxed Fit</td>\n",
       "      <td>ABC Technology</td>\n",
       "      <td>On the Move::::golf::::work::::casual</td>\n",
       "      <td>1</td>\n",
       "      <td>Obsidian</td>\n",
       "      <td>Spring::::Summer::::Fall::::Winter</td>\n",
       "      <td>28</td>\n",
       "    </tr>\n",
       "    <tr>\n",
       "      <th>378</th>\n",
       "      <td>ABC Pant Relaxed 34\" *Warpstreme</td>\n",
       "      <td>Trousers</td>\n",
       "      <td>Warpstreme</td>\n",
       "      <td>Relaxed Fit</td>\n",
       "      <td>ABC Technology</td>\n",
       "      <td>On the Move::::golf::::work::::casual</td>\n",
       "      <td>2</td>\n",
       "      <td>Obsidian</td>\n",
       "      <td>Spring::::Summer::::Fall::::Winter</td>\n",
       "      <td>29</td>\n",
       "    </tr>\n",
       "  </tbody>\n",
       "</table>\n",
       "</div>"
      ],
      "text/plain": [
       "                            product_displayName parentCategory_displayName  \\\n",
       "258            ABC Pant Relaxed 34\" *Warpstreme                   Trousers   \n",
       "274  License to Train Linerless Short 7\" *Pique                     Shorts   \n",
       "303  License to Train Linerless Short 7\" *Pique                     Shorts   \n",
       "358            ABC Pant Relaxed 34\" *Warpstreme                   Trousers   \n",
       "378            ABC Pant Relaxed 34\" *Warpstreme                   Trousers   \n",
       "\n",
       "    product_feel  product_fit                      product_function  \\\n",
       "258   Warpstreme  Relaxed Fit                        ABC Technology   \n",
       "274        Swift  Classic Fit  Anti Stink::::Drawstring::::Pocketed   \n",
       "303        Swift  Classic Fit  Anti Stink::::Drawstring::::Pocketed   \n",
       "358   Warpstreme  Relaxed Fit                        ABC Technology   \n",
       "378   Warpstreme  Relaxed Fit                        ABC Technology   \n",
       "\n",
       "                          product_activity  sku_orderInAvailabilityMap  \\\n",
       "258  On the Move::::golf::::work::::casual                           5   \n",
       "274                                workout                          13   \n",
       "303                                workout                          14   \n",
       "358  On the Move::::golf::::work::::casual                           1   \n",
       "378  On the Move::::golf::::work::::casual                           2   \n",
       "\n",
       "    sku_colorCodeDesc            product_customAttribute5 sku_size  \n",
       "258          Obsidian  Spring::::Summer::::Fall::::Winter       32  \n",
       "274    Utility Yellow    Spring::::Summer::::Warm Weather        L  \n",
       "303    Utility Yellow    Spring::::Summer::::Warm Weather        M  \n",
       "358          Obsidian  Spring::::Summer::::Fall::::Winter       28  \n",
       "378          Obsidian  Spring::::Summer::::Fall::::Winter       29  "
      ]
     },
     "execution_count": 29,
     "metadata": {},
     "output_type": "execute_result"
    }
   ],
   "source": [
    "pd.set_option('display.max_columns', None)\n",
    "\n",
    "df = pd.read_csv('../data/combined.csv.bz2')\n",
    "df = df[df['gender'] == 'men']\n",
    "\n",
    "is_shorts = (df['parentCategory_displayName'] == 'Shorts')\n",
    "is_trousers = (df['parentCategory_displayName'] == 'Trousers')\n",
    "is_joggers = (df['parentCategory_displayName'] == 'Joggers')\n",
    "\n",
    "df = df[is_shorts | is_trousers | is_joggers]\n",
    "df = df[['product_displayName', 'parentCategory_displayName', 'product_feel', 'product_fit', \n",
    "         'product_function', 'product_activity', 'sku_orderInAvailabilityMap', 'sku_colorCodeDesc', 'product_customAttribute5', 'sku_size']]\n",
    "df.head()"
   ]
  },
  {
   "attachments": {},
   "cell_type": "markdown",
   "metadata": {},
   "source": [
    "### Make column values more readable"
   ]
  },
  {
   "cell_type": "code",
   "execution_count": 30,
   "metadata": {},
   "outputs": [
    {
     "data": {
      "text/html": [
       "<div>\n",
       "<style scoped>\n",
       "    .dataframe tbody tr th:only-of-type {\n",
       "        vertical-align: middle;\n",
       "    }\n",
       "\n",
       "    .dataframe tbody tr th {\n",
       "        vertical-align: top;\n",
       "    }\n",
       "\n",
       "    .dataframe thead th {\n",
       "        text-align: right;\n",
       "    }\n",
       "</style>\n",
       "<table border=\"1\" class=\"dataframe\">\n",
       "  <thead>\n",
       "    <tr style=\"text-align: right;\">\n",
       "      <th></th>\n",
       "      <th>product_displayName</th>\n",
       "      <th>parentCategory_displayName</th>\n",
       "      <th>product_feel</th>\n",
       "      <th>product_fit</th>\n",
       "      <th>product_function</th>\n",
       "      <th>product_activity</th>\n",
       "      <th>sku_orderInAvailabilityMap</th>\n",
       "      <th>sku_colorCodeDesc</th>\n",
       "      <th>product_customAttribute5</th>\n",
       "      <th>sku_size</th>\n",
       "    </tr>\n",
       "  </thead>\n",
       "  <tbody>\n",
       "    <tr>\n",
       "      <th>0</th>\n",
       "      <td>ABC Pant Relaxed 34\" *Warpstreme</td>\n",
       "      <td>Trousers</td>\n",
       "      <td>Warpstreme</td>\n",
       "      <td>Relaxed Fit</td>\n",
       "      <td>ABC Technology</td>\n",
       "      <td>On the Move, golf, work, casual</td>\n",
       "      <td>5</td>\n",
       "      <td>Obsidian</td>\n",
       "      <td>Spring, Summer, Fall, Winter</td>\n",
       "      <td>32</td>\n",
       "    </tr>\n",
       "    <tr>\n",
       "      <th>1</th>\n",
       "      <td>License to Train Linerless Short 7\" *Pique</td>\n",
       "      <td>Shorts</td>\n",
       "      <td>Swift</td>\n",
       "      <td>Classic Fit</td>\n",
       "      <td>Anti Stink, Drawstring, Pocketed</td>\n",
       "      <td>workout</td>\n",
       "      <td>13</td>\n",
       "      <td>Utility Yellow</td>\n",
       "      <td>Spring, Summer, Warm Weather</td>\n",
       "      <td>L</td>\n",
       "    </tr>\n",
       "    <tr>\n",
       "      <th>2</th>\n",
       "      <td>License to Train Linerless Short 7\" *Pique</td>\n",
       "      <td>Shorts</td>\n",
       "      <td>Swift</td>\n",
       "      <td>Classic Fit</td>\n",
       "      <td>Anti Stink, Drawstring, Pocketed</td>\n",
       "      <td>workout</td>\n",
       "      <td>14</td>\n",
       "      <td>Utility Yellow</td>\n",
       "      <td>Spring, Summer, Warm Weather</td>\n",
       "      <td>M</td>\n",
       "    </tr>\n",
       "    <tr>\n",
       "      <th>3</th>\n",
       "      <td>ABC Pant Relaxed 34\" *Warpstreme</td>\n",
       "      <td>Trousers</td>\n",
       "      <td>Warpstreme</td>\n",
       "      <td>Relaxed Fit</td>\n",
       "      <td>ABC Technology</td>\n",
       "      <td>On the Move, golf, work, casual</td>\n",
       "      <td>1</td>\n",
       "      <td>Obsidian</td>\n",
       "      <td>Spring, Summer, Fall, Winter</td>\n",
       "      <td>28</td>\n",
       "    </tr>\n",
       "    <tr>\n",
       "      <th>4</th>\n",
       "      <td>ABC Pant Relaxed 34\" *Warpstreme</td>\n",
       "      <td>Trousers</td>\n",
       "      <td>Warpstreme</td>\n",
       "      <td>Relaxed Fit</td>\n",
       "      <td>ABC Technology</td>\n",
       "      <td>On the Move, golf, work, casual</td>\n",
       "      <td>2</td>\n",
       "      <td>Obsidian</td>\n",
       "      <td>Spring, Summer, Fall, Winter</td>\n",
       "      <td>29</td>\n",
       "    </tr>\n",
       "  </tbody>\n",
       "</table>\n",
       "</div>"
      ],
      "text/plain": [
       "                          product_displayName parentCategory_displayName  \\\n",
       "0            ABC Pant Relaxed 34\" *Warpstreme                   Trousers   \n",
       "1  License to Train Linerless Short 7\" *Pique                     Shorts   \n",
       "2  License to Train Linerless Short 7\" *Pique                     Shorts   \n",
       "3            ABC Pant Relaxed 34\" *Warpstreme                   Trousers   \n",
       "4            ABC Pant Relaxed 34\" *Warpstreme                   Trousers   \n",
       "\n",
       "  product_feel  product_fit                  product_function  \\\n",
       "0   Warpstreme  Relaxed Fit                    ABC Technology   \n",
       "1        Swift  Classic Fit  Anti Stink, Drawstring, Pocketed   \n",
       "2        Swift  Classic Fit  Anti Stink, Drawstring, Pocketed   \n",
       "3   Warpstreme  Relaxed Fit                    ABC Technology   \n",
       "4   Warpstreme  Relaxed Fit                    ABC Technology   \n",
       "\n",
       "                  product_activity  sku_orderInAvailabilityMap  \\\n",
       "0  On the Move, golf, work, casual                           5   \n",
       "1                          workout                          13   \n",
       "2                          workout                          14   \n",
       "3  On the Move, golf, work, casual                           1   \n",
       "4  On the Move, golf, work, casual                           2   \n",
       "\n",
       "  sku_colorCodeDesc      product_customAttribute5 sku_size  \n",
       "0          Obsidian  Spring, Summer, Fall, Winter       32  \n",
       "1    Utility Yellow  Spring, Summer, Warm Weather        L  \n",
       "2    Utility Yellow  Spring, Summer, Warm Weather        M  \n",
       "3          Obsidian  Spring, Summer, Fall, Winter       28  \n",
       "4          Obsidian  Spring, Summer, Fall, Winter       29  "
      ]
     },
     "execution_count": 30,
     "metadata": {},
     "output_type": "execute_result"
    }
   ],
   "source": [
    "df['product_function'] = df['product_function'].str.replace('::::', ', ', regex=False)\n",
    "df['product_activity'] = df['product_activity'].str.replace('::::', ', ', regex=False)\n",
    "df['product_customAttribute5'] = df['product_customAttribute5'].str.replace('::::', ', ', regex=False)\n",
    "df['product_feel'] = df['product_feel'].str.replace('::::', ', ', regex=False)\n",
    "df = df.reset_index(drop=True)\n",
    "df.head()"
   ]
  },
  {
   "attachments": {},
   "cell_type": "markdown",
   "metadata": {},
   "source": [
    "### Inspect data"
   ]
  },
  {
   "cell_type": "code",
   "execution_count": 31,
   "metadata": {},
   "outputs": [
    {
     "data": {
      "text/plain": [
       "Spring, Summer, Fall, Winter                  5588\n",
       "Spring, Fall, Winter                          4485\n",
       "Spring, Summer, Warm Weather                  3276\n",
       "Spring, Summer, Fall, Warm Weather             760\n",
       "Spring, Fall                                   414\n",
       "Fall, Spring, Summer, Warm Weather             326\n",
       "Spring, Summer, Fall                           300\n",
       "Warm Weather                                   279\n",
       "Cold Weather, Fall, Spring, Summer, Winter     271\n",
       "Fall, Spring, Summer, Winter                   264\n",
       "Cold Weather, Fall, Spring, Winter             261\n",
       "Fall, Spring, Winter                           259\n",
       "Spring, Summer, Fall, Winter, Warm Weather     204\n",
       "Spring, Summer                                  88\n",
       "Spring                                          85\n",
       "Summer, Warm Weather                            60\n",
       "Fall, Spring, Summer                            36\n",
       "Fall, Spring                                    33\n",
       "Fall, Winter                                    24\n",
       "Fall, Winter, Spring, Summer                    20\n",
       "Winter                                          20\n",
       "Spring, Summer, Warm Weather, Fall              12\n",
       "Cold Weather, Fall, Winter                      12\n",
       "Fall, Winter, Cold Weather                      12\n",
       "Summer                                           9\n",
       "Name: product_customAttribute5, dtype: int64"
      ]
     },
     "execution_count": 31,
     "metadata": {},
     "output_type": "execute_result"
    }
   ],
   "source": [
    "df['product_customAttribute5'].value_counts()"
   ]
  },
  {
   "attachments": {},
   "cell_type": "markdown",
   "metadata": {},
   "source": [
    "### Rename columns to be more human-readable"
   ]
  },
  {
   "cell_type": "code",
   "execution_count": 32,
   "metadata": {},
   "outputs": [],
   "source": [
    "df = df.rename(columns={'product_displayName':'Product Name', 'parentCategory_displayName':'Category', 'product_feel':'Product Feel',\n",
    "                                    'product_fit':'Product Fit', 'product_function':'Product Function', 'product_activity':'Best Suited Activity',\n",
    "                                    'sku_colorCodeDesc':'Color', 'product_customAttribute5':'Best Suited Weather'})"
   ]
  },
  {
   "attachments": {},
   "cell_type": "markdown",
   "metadata": {},
   "source": [
    "### Filter products further based off the products we have training content on:\n",
    "- ABC Pants Warpstreme\n",
    "- ABC Pants\n",
    "- City Sweat Jogger English\n",
    "- Surge Jogger\n",
    "- Wunder Train Short\n",
    "- Commission Short\n",
    "- Bowline Short"
   ]
  },
  {
   "cell_type": "code",
   "execution_count": 33,
   "metadata": {},
   "outputs": [
    {
     "name": "stdout",
     "output_type": "stream",
     "text": [
      "(13723, 10)\n"
     ]
    },
    {
     "data": {
      "text/html": [
       "<div>\n",
       "<style scoped>\n",
       "    .dataframe tbody tr th:only-of-type {\n",
       "        vertical-align: middle;\n",
       "    }\n",
       "\n",
       "    .dataframe tbody tr th {\n",
       "        vertical-align: top;\n",
       "    }\n",
       "\n",
       "    .dataframe thead th {\n",
       "        text-align: right;\n",
       "    }\n",
       "</style>\n",
       "<table border=\"1\" class=\"dataframe\">\n",
       "  <thead>\n",
       "    <tr style=\"text-align: right;\">\n",
       "      <th></th>\n",
       "      <th>Product Name</th>\n",
       "      <th>Category</th>\n",
       "      <th>Product Feel</th>\n",
       "      <th>Product Fit</th>\n",
       "      <th>Product Function</th>\n",
       "      <th>Best Suited Activity</th>\n",
       "      <th>sku_orderInAvailabilityMap</th>\n",
       "      <th>Color</th>\n",
       "      <th>Best Suited Weather</th>\n",
       "      <th>sku_size</th>\n",
       "    </tr>\n",
       "  </thead>\n",
       "  <tbody>\n",
       "    <tr>\n",
       "      <th>0</th>\n",
       "      <td>ABC Pant Relaxed 34\" *Warpstreme</td>\n",
       "      <td>Trousers</td>\n",
       "      <td>Warpstreme</td>\n",
       "      <td>Relaxed Fit</td>\n",
       "      <td>ABC Technology</td>\n",
       "      <td>On the Move, golf, work, casual</td>\n",
       "      <td>5</td>\n",
       "      <td>Obsidian</td>\n",
       "      <td>Spring, Summer, Fall, Winter</td>\n",
       "      <td>32</td>\n",
       "    </tr>\n",
       "    <tr>\n",
       "      <th>1</th>\n",
       "      <td>ABC Pant Relaxed 34\" *Warpstreme</td>\n",
       "      <td>Trousers</td>\n",
       "      <td>Warpstreme</td>\n",
       "      <td>Relaxed Fit</td>\n",
       "      <td>ABC Technology</td>\n",
       "      <td>On the Move, golf, work, casual</td>\n",
       "      <td>1</td>\n",
       "      <td>Obsidian</td>\n",
       "      <td>Spring, Summer, Fall, Winter</td>\n",
       "      <td>28</td>\n",
       "    </tr>\n",
       "    <tr>\n",
       "      <th>2</th>\n",
       "      <td>ABC Pant Relaxed 34\" *Warpstreme</td>\n",
       "      <td>Trousers</td>\n",
       "      <td>Warpstreme</td>\n",
       "      <td>Relaxed Fit</td>\n",
       "      <td>ABC Technology</td>\n",
       "      <td>On the Move, golf, work, casual</td>\n",
       "      <td>2</td>\n",
       "      <td>Obsidian</td>\n",
       "      <td>Spring, Summer, Fall, Winter</td>\n",
       "      <td>29</td>\n",
       "    </tr>\n",
       "    <tr>\n",
       "      <th>3</th>\n",
       "      <td>ABC Pant Relaxed 34\" *Warpstreme</td>\n",
       "      <td>Trousers</td>\n",
       "      <td>Warpstreme</td>\n",
       "      <td>Relaxed Fit</td>\n",
       "      <td>ABC Technology</td>\n",
       "      <td>On the Move, golf, work, casual</td>\n",
       "      <td>4</td>\n",
       "      <td>Obsidian</td>\n",
       "      <td>Spring, Summer, Fall, Winter</td>\n",
       "      <td>31</td>\n",
       "    </tr>\n",
       "    <tr>\n",
       "      <th>4</th>\n",
       "      <td>ABC Pant Relaxed 34\" *Warpstreme</td>\n",
       "      <td>Trousers</td>\n",
       "      <td>Warpstreme</td>\n",
       "      <td>Relaxed Fit</td>\n",
       "      <td>ABC Technology</td>\n",
       "      <td>On the Move, golf, work, casual</td>\n",
       "      <td>3</td>\n",
       "      <td>Obsidian</td>\n",
       "      <td>Spring, Summer, Fall, Winter</td>\n",
       "      <td>30</td>\n",
       "    </tr>\n",
       "  </tbody>\n",
       "</table>\n",
       "</div>"
      ],
      "text/plain": [
       "                       Product Name  Category Product Feel  Product Fit  \\\n",
       "0  ABC Pant Relaxed 34\" *Warpstreme  Trousers   Warpstreme  Relaxed Fit   \n",
       "1  ABC Pant Relaxed 34\" *Warpstreme  Trousers   Warpstreme  Relaxed Fit   \n",
       "2  ABC Pant Relaxed 34\" *Warpstreme  Trousers   Warpstreme  Relaxed Fit   \n",
       "3  ABC Pant Relaxed 34\" *Warpstreme  Trousers   Warpstreme  Relaxed Fit   \n",
       "4  ABC Pant Relaxed 34\" *Warpstreme  Trousers   Warpstreme  Relaxed Fit   \n",
       "\n",
       "  Product Function             Best Suited Activity  \\\n",
       "0   ABC Technology  On the Move, golf, work, casual   \n",
       "1   ABC Technology  On the Move, golf, work, casual   \n",
       "2   ABC Technology  On the Move, golf, work, casual   \n",
       "3   ABC Technology  On the Move, golf, work, casual   \n",
       "4   ABC Technology  On the Move, golf, work, casual   \n",
       "\n",
       "   sku_orderInAvailabilityMap     Color           Best Suited Weather sku_size  \n",
       "0                           5  Obsidian  Spring, Summer, Fall, Winter       32  \n",
       "1                           1  Obsidian  Spring, Summer, Fall, Winter       28  \n",
       "2                           2  Obsidian  Spring, Summer, Fall, Winter       29  \n",
       "3                           4  Obsidian  Spring, Summer, Fall, Winter       31  \n",
       "4                           3  Obsidian  Spring, Summer, Fall, Winter       30  "
      ]
     },
     "execution_count": 33,
     "metadata": {},
     "output_type": "execute_result"
    }
   ],
   "source": [
    "df = df[df['Product Name'].str.contains('ABC|City Sweat|Surge|Wunder|Commission|Bowline', case=False, regex=True)]\n",
    "df = df.reset_index(drop=True)\n",
    "print(df.shape)\n",
    "df.head()"
   ]
  },
  {
   "attachments": {},
   "cell_type": "markdown",
   "metadata": {},
   "source": [
    "### Separate the products into different CSVs for chapter quizzes"
   ]
  },
  {
   "cell_type": "code",
   "execution_count": 35,
   "metadata": {},
   "outputs": [
    {
     "name": "stdout",
     "output_type": "stream",
     "text": [
      "(11575, 10)\n",
      "(1912, 10)\n",
      "(236, 10)\n"
     ]
    }
   ],
   "source": [
    "trousers = df[df['Category'] == 'Trousers']\n",
    "# trousers.to_csv('mens_trousers.csv')\n",
    "print(trousers.shape)\n",
    "\n",
    "shorts = df[df['Category'] == 'Shorts']\n",
    "# shorts.to_csv('mens_shorts.csv')\n",
    "print(shorts.shape)\n",
    "\n",
    "joggers = df[df['Category'] == 'Joggers']\n",
    "# joggers.to_csv('mens_joggers.csv')\n",
    "print(joggers.shape)"
   ]
  },
  {
   "attachments": {},
   "cell_type": "markdown",
   "metadata": {},
   "source": [
    "## Additional Trousers category pre-processing\n",
    "### Check what products are currently included (should only be ABC variants)"
   ]
  },
  {
   "cell_type": "code",
   "execution_count": 36,
   "metadata": {},
   "outputs": [
    {
     "data": {
      "text/plain": [
       "ABC Classic-Fit 5 Pocket Pant 32\"L *Warpstreme    1109\n",
       "ABC Classic-Fit 5 Pocket Pant 34\"L *Warpstreme     874\n",
       "ABC Slim-Fit 5 Pocket Pant 30\"L *Warpstreme        818\n",
       "ABC Slim-Fit 5 Pocket Pant 32\"L *Warpstreme        764\n",
       "ABC Slim-Fit 5 Pocket Pant 34\"L *Warpstreme        760\n",
       "                                                  ... \n",
       "Commission Classic-Fit Pant 30\" *Warpstreme         28\n",
       "Commission Classic-Fit Pant 28\" *Warpstreme         28\n",
       "ABC Skinny-Fit 5 Pocket Pant 34\"L *Warpstreme       22\n",
       "ABC Pant Relaxed 34\" *Warpstreme                    22\n",
       "Commission Slim-Fit Pant 37\"L *Warpstreme           20\n",
       "Name: Product Name, Length: 61, dtype: int64"
      ]
     },
     "execution_count": 36,
     "metadata": {},
     "output_type": "execute_result"
    }
   ],
   "source": [
    "trousers['Product Name'].value_counts()"
   ]
  },
  {
   "attachments": {},
   "cell_type": "markdown",
   "metadata": {},
   "source": [
    "#### Remove any products that are not an ABC Pant variant"
   ]
  },
  {
   "cell_type": "code",
   "execution_count": 38,
   "metadata": {},
   "outputs": [
    {
     "data": {
      "text/plain": [
       "ABC Classic-Fit 5 Pocket Pant 32\"L *Warpstreme             1109\n",
       "ABC Classic-Fit 5 Pocket Pant 34\"L *Warpstreme              874\n",
       "ABC Slim-Fit 5 Pocket Pant 30\"L *Warpstreme                 818\n",
       "ABC Slim-Fit 5 Pocket Pant 32\"L *Warpstreme                 764\n",
       "ABC Slim-Fit 5 Pocket Pant 34\"L *Warpstreme                 760\n",
       "ABC Classic-Fit 5 Pocket Pant 30\"L *Warpstreme              506\n",
       "ABC Classic-Fit Trouser 32\"L *Warpstreme                    340\n",
       "ABC Slim-Fit 5 Pocket Pant 32\"L *Utilitech                  335\n",
       "ABC Classic-Fit 5 Pocket Pant 32\"L *Utilitech               310\n",
       "ABC Slim-Fit 5 Pocket Pant 37\"L *Warpstreme                 283\n",
       "ABC Classic-Fit 5 Pocket Pant 37\"L *Warpstreme              280\n",
       "ABC Classic-Fit Trouser 30\"L *Warpstreme                    270\n",
       "ABC Slim-Fit 5 Pocket Pant 28\"L *Warpstreme                 235\n",
       "ABC Classic-Fit 5 Pocket Pant 28\"L *Warpstreme              210\n",
       "ABC Slim-Fit Trouser 32\"L *Stretch Cotton VersaTwill        198\n",
       "ABC Classic-Fit Trouser 32\"L *Stretch Cotton VersaTwill     198\n",
       "ABC Classic-Fit 5 Pocket Pant 34\"L *Utilitech               194\n",
       "ABC Classic-Fit Trouser 34\"L *Warpstreme                    183\n",
       "ABC Slim-Fit Trouser 34\"L *Warpstreme                       182\n",
       "ABC Slim-Fit Trouser 32\"L *Warpstreme                       180\n",
       "ABC Slim-Fit Trouser 32\"L *Smooth Twill                     165\n",
       "ABC Classic-Fit Trouser 32\"L *Smooth Twill                  165\n",
       "ABC Slim-Fit Trouser 30\"L *Smooth Twill                     165\n",
       "ABC Slim-Fit Trouser 30\"L *Warpstreme                       160\n",
       "ABC Slim-Fit 5 Pocket Pant 34\"L *Utilitech                  153\n",
       "ABC Relaxed-Fit 5 Pocket Pant 34\"L *Warpstreme              140\n",
       "ABC Slim-Fit Trouser 30\"L *Stretch Cotton VersaTwill        132\n",
       "ABC Classic-Fit Trouser 30\"L *Stretch Cotton VersaTwill     132\n",
       "ABC Classic-Fit Trouser 34\"L *Stretch Cotton VersaTwill     132\n",
       "ABC Relaxed-Fit 5 Pocket Pant 32\"L *Warpstreme              130\n",
       "ABC Warpstreme Pull-On Pant *Regular                        120\n",
       "ABC Classic-Fit Trouser 30\"L *Smooth Twill                  110\n",
       "ABC Relaxed-Fit 5 Pocket Pant 30\"L *Warpstreme              110\n",
       "ABC Relaxed-Fit Trouser 30\"L *Warpstreme                    110\n",
       "ABC Classic-Fit Trouser 34\"L *Smooth Twill                  110\n",
       "ABC Slim-Fit Trouser 34\"L *Smooth Twill                     110\n",
       "ABC Classic-Fit Trouser 37\"L *Warpstreme                     84\n",
       "ABC Relaxed-Fit Trouser 34\"L *Warpstreme                     70\n",
       "ABC Relaxed-Fit Trouser 32\"L *Warpstreme                     68\n",
       "ABC Slim-Fit Trouser 28\"L *Warpstreme                        66\n",
       "ABC Classic-Fit Trouser 28\"L *Warpstreme                     66\n",
       "ABC Slim-Fit Trouser 34\"L *Stretch Cotton VersaTwill         66\n",
       "ABC Slim-Fit Trouser 37\"L *Warpstreme                        55\n",
       "ABC Slim-Fit 5 Pocket Pant 30\"L *Utilitech                   44\n",
       "ABC Slim-Fit Golf Trouser 34\"L                               44\n",
       "ABC Slim-Fit Golf Trouser 32\"L                               44\n",
       "ABC Slim-Fit Golf Trouser 30\"L                               44\n",
       "ABC Classic-Fit 5 Pocket Pant 30\"L *Utilitech                33\n",
       "ABC Bonded Twill 5 Pocket Pant                               33\n",
       "ABC Skinny-Fit 5 Pocket Pant 32\"L *Warpstreme                33\n",
       "ABC Skinny-Fit 5 Pocket Pant 34\"L *Warpstreme                22\n",
       "ABC Pant Relaxed 34\" *Warpstreme                             22\n",
       "Name: Product Name, dtype: int64"
      ]
     },
     "execution_count": 38,
     "metadata": {},
     "output_type": "execute_result"
    }
   ],
   "source": [
    "trousers = trousers[trousers['Product Name'].str.contains('ABC', case=False, regex=True)]\n",
    "trousers = trousers.reset_index(drop=True)\n",
    "trousers['Product Name'].value_counts()"
   ]
  },
  {
   "attachments": {},
   "cell_type": "markdown",
   "metadata": {},
   "source": [
    "## Additional Shorts category pre-processing\n",
    "### Check what products are currently included (should only be Wunder Train, Surge, and Bowline variants)"
   ]
  },
  {
   "cell_type": "code",
   "execution_count": 39,
   "metadata": {},
   "outputs": [
    {
     "data": {
      "text/plain": [
       "Commission Classic-Fit Short 9\" *Warpstreme              402\n",
       "Commission Classic-Fit Short 7\" *Warpstreme              324\n",
       "Surge Lined Short 6\"                                     144\n",
       "ABC Classic-Fit Short 7\" *Warpstreme                     132\n",
       "ABC Classic-Fit Short 9\" *Warpstreme                     126\n",
       "Bowline Short 5\"                                          96\n",
       "Commission Golf Short 10\"                                 78\n",
       "Commission Classic-Fit Short 9\" *Oxford                   65\n",
       "Commission Classic-Fit Short 7\" *Oxford                   58\n",
       "Bowline Short 8\" *Stretch Cotton VersaTwill               54\n",
       "ABC Classic-Fit Short 9\" *WovenAir                        50\n",
       "ABC Classic-Fit Short 7\" *WovenAir                        50\n",
       "Bowline Short 5\" *Stretch Cotton VersaTwill               42\n",
       "Bowline Short 8\" *Stretch Ripstop                         41\n",
       "Bowline Short 5\" *Stretch Ripstop                         36\n",
       "ABC Classic-Fit Golf Short 9\"                             36\n",
       "ABC Classic-Fit Golf Short 7\"                             27\n",
       "Commission Classic-Fit Short 5\" Ventlight                 26\n",
       "Commission Relaxed-Fit Short 11\" *Oxford                  18\n",
       "Team Canada Commission Classic-Fit Short 7\" *COC Logo     18\n",
       "Commission Classic-Fit Short 7\" *Cord                     18\n",
       "Bowline Short 8\" *Ventlight Mesh                          12\n",
       "City Sweat Short 9\"                                       12\n",
       "Bowline Short 8\" *Woven                                   12\n",
       "Surge Short 5\"                                            12\n",
       "Commission Classic-Fit Short 7\" *WovenAir                  9\n",
       "City Sweat Short 9\" *Texture                               6\n",
       "Commission Short 7\" *Ventlight Mesh                        4\n",
       "Surge Linerless Short 3\"                                   4\n",
       "Name: Product Name, dtype: int64"
      ]
     },
     "execution_count": 39,
     "metadata": {},
     "output_type": "execute_result"
    }
   ],
   "source": [
    "shorts['Product Name'].value_counts()"
   ]
  },
  {
   "attachments": {},
   "cell_type": "markdown",
   "metadata": {},
   "source": [
    "### Remove any products that are not a variant of the Wunder Train, Surge, or Bowline shorts"
   ]
  },
  {
   "cell_type": "code",
   "execution_count": 40,
   "metadata": {},
   "outputs": [
    {
     "data": {
      "text/plain": [
       "Surge Lined Short 6\"                           144\n",
       "Bowline Short 5\"                                96\n",
       "Bowline Short 8\" *Stretch Cotton VersaTwill     54\n",
       "Bowline Short 5\" *Stretch Cotton VersaTwill     42\n",
       "Bowline Short 8\" *Stretch Ripstop               41\n",
       "Bowline Short 5\" *Stretch Ripstop               36\n",
       "Surge Short 5\"                                  12\n",
       "Bowline Short 8\" *Woven                         12\n",
       "Bowline Short 8\" *Ventlight Mesh                12\n",
       "Surge Linerless Short 3\"                         4\n",
       "Name: Product Name, dtype: int64"
      ]
     },
     "execution_count": 40,
     "metadata": {},
     "output_type": "execute_result"
    }
   ],
   "source": [
    "shorts = shorts[shorts['Product Name'].str.contains('Wunder|Surge|Bowline', case=False, regex=True)]\n",
    "shorts = shorts.reset_index(drop=True)\n",
    "shorts['Product Name'].value_counts()"
   ]
  },
  {
   "attachments": {},
   "cell_type": "markdown",
   "metadata": {},
   "source": [
    "## Additional Joggers category pre-processing\n",
    "### Check to see what products are currently included (should only be Surge or City Sweat)"
   ]
  },
  {
   "cell_type": "code",
   "execution_count": 41,
   "metadata": {},
   "outputs": [
    {
     "data": {
      "text/plain": [
       "ABC Light Utilitech Pull-On Pant           72\n",
       "Surge Jogger                               59\n",
       "Surge Jogger *Tall                         35\n",
       "ABC Jogger                                 26\n",
       "Team Canada City Sweat Jogger *COC Logo    20\n",
       "ABC Jogger *Shorter                        12\n",
       "ABC Jogger *Tall                           12\n",
       "Name: Product Name, dtype: int64"
      ]
     },
     "execution_count": 41,
     "metadata": {},
     "output_type": "execute_result"
    }
   ],
   "source": [
    "joggers['Product Name'].value_counts()"
   ]
  },
  {
   "attachments": {},
   "cell_type": "markdown",
   "metadata": {},
   "source": [
    "#### Remove any products that are not a variant of the Surge or City Sweat Joggers"
   ]
  },
  {
   "cell_type": "code",
   "execution_count": 42,
   "metadata": {},
   "outputs": [
    {
     "data": {
      "text/plain": [
       "Surge Jogger                               59\n",
       "Surge Jogger *Tall                         35\n",
       "Team Canada City Sweat Jogger *COC Logo    20\n",
       "Name: Product Name, dtype: int64"
      ]
     },
     "execution_count": 42,
     "metadata": {},
     "output_type": "execute_result"
    }
   ],
   "source": [
    "joggers = joggers[joggers['Product Name'].str.contains('City Sweat|Surge', case=False, regex=True)]\n",
    "joggers = joggers.reset_index(drop=True)\n",
    "joggers['Product Name'].value_counts()"
   ]
  },
  {
   "attachments": {},
   "cell_type": "markdown",
   "metadata": {},
   "source": [
    "## Prepare date for OpenAI ingestion\n",
    "### Convert DFs to CSVs"
   ]
  },
  {
   "cell_type": "code",
   "execution_count": 43,
   "metadata": {},
   "outputs": [],
   "source": [
    "trousers.to_csv('mens_trousers.csv')\n",
    "shorts.to_csv('mens_shorts.csv')\n",
    "joggers.to_csv('mens_joggers.csv')"
   ]
  },
  {
   "attachments": {},
   "cell_type": "markdown",
   "metadata": {},
   "source": [
    "### Convert CSVs to JSON files"
   ]
  },
  {
   "cell_type": "code",
   "execution_count": 44,
   "metadata": {},
   "outputs": [],
   "source": [
    "import csv\n",
    "import json\n",
    "\n",
    "def csv_to_json(csv_file_path, json_file_path):\n",
    "    # Create a list to hold data\n",
    "    data = []\n",
    "\n",
    "    # Open the CSV file and read data\n",
    "    with open(csv_file_path, mode='r', encoding='utf-8') as csv_file:\n",
    "        csv_reader = csv.DictReader(csv_file)\n",
    "        for row in csv_reader:\n",
    "            data.append(row)\n",
    "\n",
    "    # Write data to a JSON file\n",
    "    with open(json_file_path, mode='w', encoding='utf-8') as json_file:\n",
    "        json_file.write(json.dumps(data, indent=4))\n",
    "\n",
    "files = ['mens_trousers.csv', 'mens_shorts.csv', 'mens_joggers.csv']\n",
    "\n",
    "for file in files:\n",
    "    csv_to_json(file, file.replace('.csv', '.json'))"
   ]
  }
 ],
 "metadata": {
  "kernelspec": {
   "display_name": "info498b",
   "language": "python",
   "name": "python3"
  },
  "language_info": {
   "codemirror_mode": {
    "name": "ipython",
    "version": 3
   },
   "file_extension": ".py",
   "mimetype": "text/x-python",
   "name": "python",
   "nbconvert_exporter": "python",
   "pygments_lexer": "ipython3",
   "version": "3.11.7"
  },
  "orig_nbformat": 4
 },
 "nbformat": 4,
 "nbformat_minor": 2
}
